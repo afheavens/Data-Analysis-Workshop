{
 "cells": [
  {
   "cell_type": "code",
   "execution_count": 1,
   "metadata": {},
   "outputs": [],
   "source": [
    "# From chains produced by e.g. \"Eclipse 1919 Stan alpha prior\" notebook (2 for each of Newton and Einstein gravity),\n",
    "# compute Bayesian Evidence with MCEvidence nearest-neighbour code.  Needs 2 file for each, with * \n",
    "# replaced by 0 and 1 in the filenames\n",
    "\n",
    "from MCEvidence import MCEvidence\n",
    "import math"
   ]
  },
  {
   "cell_type": "code",
   "execution_count": 2,
   "metadata": {},
   "outputs": [
    {
     "name": "stderr",
     "output_type": "stream",
     "text": [
      "INFO:MCEvidence.py.setup():142      Loading chain from ./Eclipse_chain_100000E_*\n",
      "INFO:MCEvidence.py.read_list_to_array():563      loading: ./Eclipse_chain_100000E_0.txt\n"
     ]
    },
    {
     "name": "stdout",
     "output_type": "stream",
     "text": [
      "Calling MCEvidence:\n"
     ]
    },
    {
     "name": "stderr",
     "output_type": "stream",
     "text": [
      "INFO:MCEvidence.py.read_list_to_array():563      loading: ./Eclipse_chain_100000E_1.txt\n",
      "INFO:MCEvidence.py.thin():300      Thinning input sample chain \n",
      "INFO:MCEvidence.py.thin():343      Thinning with thin length=0.5 \n",
      "                                #old_chain=200000,#new_chain=78972\n",
      "INFO:MCEvidence.py.chain_split():229      2 chain with nrow=78972 split to ns1=39486, ns2=39486\n",
      "INFO:MCEvidence.py.__init__():781      chain array dimensions: [39486, 39486] x 4 =\n",
      "INFO:MCEvidence.py.get_covariance():859      Estimating covariance matrix using all chains\n",
      "INFO:MCEvidence.py.get_covariance():863      covariance matrix estimated using nsample=78972\n",
      "INFO:MCEvidence.py.get_samples():910      getting samples for partition s1: nsamples=39486\n",
      "INFO:MCEvidence.py.get_samples():910      getting samples for partition s2: nsamples=39486\n",
      "INFO:MCEvidence.py.evidence():1090     using XMCEvidence. NN distance is estimated using nsamples=(39486, 39486)\n",
      "INFO:MCEvidence.py.evidence():1163        ln(B)[k=1] = -15.17967581146952\n",
      "INFO:MCEvidence.py.setup():142      Loading chain from ./Eclipse_chain_100000N_*\n",
      "INFO:MCEvidence.py.read_list_to_array():563      loading: ./Eclipse_chain_100000N_1\n",
      "INFO:MCEvidence.py.read_list_to_array():563      loading: ./Eclipse_chain_100000N_0\n",
      "INFO:MCEvidence.py.thin():300      Thinning input sample chain \n",
      "INFO:MCEvidence.py.thin():343      Thinning with thin length=0.5 \n",
      "                                #old_chain=200000,#new_chain=78939\n",
      "INFO:MCEvidence.py.chain_split():229      2 chain with nrow=78939 split to ns1=39469, ns2=39470\n",
      "INFO:MCEvidence.py.__init__():781      chain array dimensions: [39469, 39470] x 4 =\n",
      "INFO:MCEvidence.py.get_covariance():859      Estimating covariance matrix using all chains\n",
      "INFO:MCEvidence.py.get_covariance():863      covariance matrix estimated using nsample=78939\n",
      "INFO:MCEvidence.py.get_samples():910      getting samples for partition s1: nsamples=39469\n",
      "INFO:MCEvidence.py.get_samples():910      getting samples for partition s2: nsamples=39470\n",
      "INFO:MCEvidence.py.evidence():1090     using XMCEvidence. NN distance is estimated using nsamples=(39469, 39470)\n",
      "INFO:MCEvidence.py.evidence():1163        ln(B)[k=1] = -16.242902856974148\n"
     ]
    }
   ],
   "source": [
    "# Call MCEvidence:                     \n",
    "        \n",
    "fileDirectory = './'\n",
    "samples      = 100000\n",
    "\n",
    "# Chain files for Einstein and Newton values of alpha:\n",
    "\n",
    "chainfile_E    = fileDirectory+'Eclipse_chain_'+str(samples)+'E_*'\n",
    "chainfile_N    = fileDirectory+'Eclipse_chain_'+str(samples)+'N_*'\n",
    "\n",
    "autothin     = False\n",
    "setthinning  = 0.5\n",
    "thinning     = setthinning\n",
    "#-----------------------\n",
    "\n",
    "# Stan already removes a burnin, so set burnlen=0\n",
    "\n",
    "# split = True if there are 2 chains, False if only one.\n",
    "Split = True\n",
    "\n",
    "if(Split):\n",
    "    nchains = 2\n",
    "else:\n",
    "    nchains = 1\n",
    "\n",
    "print('Calling MCEvidence:')\n",
    "\n",
    "#MLE_E = MCEvidence(chainfile_E,split=Split,kmax=0,verbose=1,priorvolume=1.,thinlen=thinning,burnlen=int(burnfraction*samples),debug=False).evidence()\n",
    "MLE_E = MCEvidence(chainfile_E,split=Split,kmax=0,verbose=1,priorvolume=1.,thinlen=thinning,burnlen=0,debug=False).evidence()\n",
    "Z_Einstein = math.exp(MLE_E[0])\n",
    "\n",
    "MLE_N = MCEvidence(chainfile_N,split=Split,kmax=0,verbose=1,priorvolume=1.,thinlen=thinning,burnlen=0,debug=False).evidence()\n",
    "Z_Newton = math.exp(MLE_N[0])\n",
    "\n",
    "BayesFactor = Z_Einstein/Z_Newton"
   ]
  },
  {
   "cell_type": "code",
   "execution_count": 3,
   "metadata": {},
   "outputs": [
    {
     "name": "stdout",
     "output_type": "stream",
     "text": [
      "Evidence for Einstein: 2.556e-07\n"
     ]
    }
   ],
   "source": [
    "print('Evidence for Einstein: %.3e' % Z_Einstein)"
   ]
  },
  {
   "cell_type": "code",
   "execution_count": 4,
   "metadata": {},
   "outputs": [
    {
     "name": "stdout",
     "output_type": "stream",
     "text": [
      "Evidence for Newton: 8.827e-08\n"
     ]
    }
   ],
   "source": [
    "print('Evidence for Newton: %.3e' % Z_Newton)"
   ]
  },
  {
   "cell_type": "code",
   "execution_count": 5,
   "metadata": {},
   "outputs": [
    {
     "name": "stdout",
     "output_type": "stream",
     "text": [
      "Bayes factor: 2.90\n"
     ]
    }
   ],
   "source": [
    "print('Bayes factor: %.2f' % BayesFactor)"
   ]
  }
 ],
 "metadata": {
  "kernelspec": {
   "display_name": "Python 3",
   "language": "python",
   "name": "python3"
  },
  "language_info": {
   "codemirror_mode": {
    "name": "ipython",
    "version": 3
   },
   "file_extension": ".py",
   "mimetype": "text/x-python",
   "name": "python",
   "nbconvert_exporter": "python",
   "pygments_lexer": "ipython3",
   "version": "3.6.8"
  }
 },
 "nbformat": 4,
 "nbformat_minor": 2
}
