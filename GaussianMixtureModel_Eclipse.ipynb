{
 "cells": [
  {
   "cell_type": "code",
   "execution_count": 1,
   "metadata": {},
   "outputs": [],
   "source": [
    "# Read chains from e.g. \"Eclipse 1919 Stan alpha\" notebook, and fit n_components gaussians.\n",
    "# In fact the posterior is gaussian, so 1 component should be enough.  Then computes the \n",
    "# Bayesian evidence analytically from the fit.\n",
    "\n",
    "from sklearn import mixture\n",
    "import numpy as np\n",
    "import matplotlib.pylab as plt \n",
    "import scipy.stats as ss \n",
    "from datetime import datetime\n",
    "from scipy.stats import multivariate_normal\n",
    "import time\n",
    "from numpy.linalg import inv\n",
    "import pickle \n",
    "from functools import reduce\n",
    "from scipy import random, linalg\n",
    "import math\n",
    "from matplotlib.colors import LogNorm\n",
    "%matplotlib inline"
   ]
  },
  {
   "cell_type": "code",
   "execution_count": 2,
   "metadata": {},
   "outputs": [],
   "source": [
    "fileDirectory = './'\n",
    "samples      = 100000\n",
    "chainfile    = fileDirectory+'Eclipse_chain_'+str(samples)\n",
    "\n",
    "p = 4\n",
    "\n",
    "if(p>2):\n",
    "    chain = np.loadtxt(chainfile,delimiter=' ',usecols=(2,3,4,5))\n",
    "else:\n",
    "    chain = np.loadtxt(chainfile,delimiter=' ',usecols=(2,3))"
   ]
  },
  {
   "cell_type": "code",
   "execution_count": 3,
   "metadata": {},
   "outputs": [],
   "source": [
    "# GMM = mixture.BayesianGaussianMixture(n_components=1, covariance_type='full', tol=0.001, reg_covar=1e-06, \n",
    "#                                   max_iter=100, n_init=1, init_params='kmeans', \n",
    "#                                   weight_concentration_prior_type='dirichlet_process', \n",
    "#                                   weight_concentration_prior=None, mean_precision_prior=None, \n",
    "#                                   mean_prior=None, degrees_of_freedom_prior=None, covariance_prior=None, \n",
    "#                                   random_state=None, warm_start=False, verbose=0, verbose_interval=10)"
   ]
  },
  {
   "cell_type": "code",
   "execution_count": 4,
   "metadata": {},
   "outputs": [
    {
     "data": {
      "text/plain": [
       "BayesianGaussianMixture(covariance_prior=None, covariance_type='full',\n",
       "            degrees_of_freedom_prior=None, init_params='kmeans',\n",
       "            max_iter=100, mean_precision_prior=None, mean_prior=None,\n",
       "            n_components=1, n_init=1, random_state=None, reg_covar=1e-06,\n",
       "            tol=0.001, verbose=0, verbose_interval=10, warm_start=False,\n",
       "            weight_concentration_prior=None,\n",
       "            weight_concentration_prior_type='dirichlet_process')"
      ]
     },
     "execution_count": 4,
     "metadata": {},
     "output_type": "execute_result"
    }
   ],
   "source": [
    "GMM = mixture.BayesianGaussianMixture(n_components=1,covariance_type='full')\n",
    "GMM.fit(chain)"
   ]
  },
  {
   "cell_type": "code",
   "execution_count": 5,
   "metadata": {},
   "outputs": [],
   "source": [
    "# display predicted scores by the model as a contour plot\n",
    "\n",
    "if(p==2):\n",
    "    alphalims = np.linspace(0, 5.)\n",
    "    alims     = np.linspace(0., 0.3)\n",
    "#blims     = np.linspace(-0.3, 0.)\n",
    "#clims     = np.linspace(0.5,1.0)\n",
    "    alpha, a  = np.meshgrid(alphalims, alims)\n",
    "    XX        = np.array([alpha.ravel(), a.ravel()]).T\n",
    "    Z         = -GMM.score_samples(XX)\n",
    "    Z         = Z.reshape(alpha.shape)\n",
    "\n",
    "    CS = plt.contour(alpha, a, Z, norm=LogNorm(vmin=1.0, vmax=1000.0),\n",
    "                 levels=np.logspace(0,3,10))\n",
    "    CB = plt.colorbar(CS, shrink=0.8, extend='both')\n",
    "    plt.scatter(chain[:, 0], chain[:, 1], .8)\n",
    "\n",
    "    plt.title('Negative log-likelihood predicted by a GMM')\n",
    "    plt.axis('tight')\n",
    "    plt.xlabel(r'$\\alpha$')\n",
    "    plt.ylabel('a')\n",
    "    plt.show()"
   ]
  },
  {
   "cell_type": "code",
   "execution_count": 6,
   "metadata": {},
   "outputs": [
    {
     "data": {
      "text/plain": [
       "array([[ 2.22383838,  0.14438838, -0.10281535,  0.7996291 ]])"
      ]
     },
     "execution_count": 6,
     "metadata": {},
     "output_type": "execute_result"
    }
   ],
   "source": [
    "GMM.means_"
   ]
  },
  {
   "cell_type": "code",
   "execution_count": 7,
   "metadata": {},
   "outputs": [
    {
     "data": {
      "text/plain": [
       "array([1.])"
      ]
     },
     "execution_count": 7,
     "metadata": {},
     "output_type": "execute_result"
    }
   ],
   "source": [
    "GMM.weights_"
   ]
  },
  {
   "cell_type": "code",
   "execution_count": 8,
   "metadata": {},
   "outputs": [
    {
     "data": {
      "text/plain": [
       "array([[[ 7.96536275e-01, -3.18392237e-02,  9.63023679e-03,\n",
       "          4.52129373e-03],\n",
       "        [-3.18392237e-02,  2.11531121e-03, -7.10457561e-04,\n",
       "         -3.14637634e-04],\n",
       "        [ 9.63023679e-03, -7.10457561e-04,  8.33055765e-04,\n",
       "         -3.45993928e-05],\n",
       "        [ 4.52129373e-03, -3.14637634e-04, -3.45993928e-05,\n",
       "          4.37849581e-04]]])"
      ]
     },
     "execution_count": 8,
     "metadata": {},
     "output_type": "execute_result"
    }
   ],
   "source": [
    "GMM.covariances_"
   ]
  },
  {
   "cell_type": "code",
   "execution_count": 9,
   "metadata": {},
   "outputs": [],
   "source": [
    "InvC = np.linalg.inv(GMM.covariances_[0])"
   ]
  },
  {
   "cell_type": "code",
   "execution_count": 10,
   "metadata": {},
   "outputs": [
    {
     "data": {
      "text/plain": [
       "array([[   3.17670988,   50.66582733,    6.65788911,    4.13131947],\n",
       "       [  50.66582733, 1615.81552793,  821.50901231,  702.85553158],\n",
       "       [   6.65788911,  821.50901231, 1851.78439943,  667.91429769],\n",
       "       [   4.13131947,  702.85553158,  667.91429769, 2799.07843798]])"
      ]
     },
     "execution_count": 10,
     "metadata": {},
     "output_type": "execute_result"
    }
   ],
   "source": [
    "InvC"
   ]
  },
  {
   "cell_type": "code",
   "execution_count": 11,
   "metadata": {},
   "outputs": [],
   "source": [
    "D = np.array(p-1)\n",
    "B = np.array((p-1,1))\n",
    "\n",
    "D = InvC[1:p,1:p]\n",
    "B = InvC[1:p,0]\n",
    "A = InvC[0,0]\n",
    "\n",
    "InvD = np.linalg.inv(D)"
   ]
  },
  {
   "cell_type": "code",
   "execution_count": 12,
   "metadata": {},
   "outputs": [
    {
     "data": {
      "text/plain": [
       "array([[1615.81552793,  821.50901231,  702.85553158],\n",
       "       [ 821.50901231, 1851.78439943,  667.91429769],\n",
       "       [ 702.85553158,  667.91429769, 2799.07843798]])"
      ]
     },
     "execution_count": 12,
     "metadata": {},
     "output_type": "execute_result"
    }
   ],
   "source": [
    "D"
   ]
  },
  {
   "cell_type": "code",
   "execution_count": 13,
   "metadata": {},
   "outputs": [
    {
     "data": {
      "text/plain": [
       "array([50.66582733,  6.65788911,  4.13131947])"
      ]
     },
     "execution_count": 13,
     "metadata": {},
     "output_type": "execute_result"
    }
   ],
   "source": [
    "B"
   ]
  },
  {
   "cell_type": "code",
   "execution_count": 14,
   "metadata": {},
   "outputs": [],
   "source": [
    "alphabar   = GMM.means_[0,0]\n",
    "alpha_E    = 1.75\n",
    "alpha_N    = 0.875\n",
    "Z_Einstein = 0.5*(alpha_E-alphabar)**2 * (np.dot(B,np.dot(InvD,B.T))-A)\n",
    "Z_Newton   = 0.5*(alpha_N-alphabar)**2 * (np.dot(B,np.dot(InvD,B.T))-A)\n",
    "\n",
    "Bayes = np.exp(Z_Einstein-Z_Newton)"
   ]
  },
  {
   "cell_type": "code",
   "execution_count": 15,
   "metadata": {},
   "outputs": [
    {
     "name": "stdout",
     "output_type": "stream",
     "text": [
      "Bayes factor: 2.72\n"
     ]
    }
   ],
   "source": [
    "print('Bayes factor: %.2f' % Bayes)"
   ]
  },
  {
   "cell_type": "code",
   "execution_count": null,
   "metadata": {},
   "outputs": [],
   "source": []
  }
 ],
 "metadata": {
  "kernelspec": {
   "display_name": "Python 3",
   "language": "python",
   "name": "python3"
  },
  "language_info": {
   "codemirror_mode": {
    "name": "ipython",
    "version": 3
   },
   "file_extension": ".py",
   "mimetype": "text/x-python",
   "name": "python",
   "nbconvert_exporter": "python",
   "pygments_lexer": "ipython3",
   "version": "3.6.8"
  }
 },
 "nbformat": 4,
 "nbformat_minor": 2
}
